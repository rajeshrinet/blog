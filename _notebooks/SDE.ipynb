{
 "cells": [
  {
   "cell_type": "code",
   "execution_count": 1,
   "metadata": {},
   "outputs": [
    {
     "name": "stdout",
     "output_type": "stream",
     "text": [
      "Requirement already satisfied: sdeint in /Users/rsingh/software/anaconda/lib/python3.7/site-packages (0.2.1)\r\n",
      "Requirement already satisfied: numpy>=1.6 in /Users/rsingh/software/anaconda/lib/python3.7/site-packages (from sdeint) (1.20.2)\r\n"
     ]
    }
   ],
   "source": [
    "%matplotlib inline\n",
    "!pip install sdeint\n",
    "import numpy as np\n",
    "import matplotlib.pyplot as plt"
   ]
  },
  {
   "cell_type": "markdown",
   "metadata": {},
   "source": [
    "Consider the stochastic differential equation (SDE)\n",
    "$$\n",
    "dx_t = \\sigma dW_t\n",
    "$$\n",
    "Here $W_t$ is a Wiener process: a continuous stochastic process whose increments $W_t - W_{t'}$ are normally distributed with mean zero and variance $t-t'.$ This represents the stochastic driving of the equation with $\\sigma=\\sqrt{2D}$. The system is said to be driven by a *multiplicative noise* if $D$ depends on the state of the system. The integration of the above differential equation is not uniquely defined in that case and care must taken in choosing the convention. The stochastic integral\n",
    "$$\n",
    "\\int_0^T f(x)\\circ_{\\alpha} dW_t = \\lim_{N\\rightarrow \\infty} \\sum_{n=0}^{N-1}\\Delta W_{t_n}\n",
    "$$\n",
    "Here $t_n = \\frac{n+\\alpha}{N}T$, where $\\alpha=0,0.5,1$ typically. A correct convention should be chosen from the experimental data or from an another unambigous model. For example, for overdamped Langevin equation, the choice of $\\alpha$ can be made by starting with underdamped Langevin equation and then adiabatically eliminating the fast degree of freedom.\n",
    "\n",
    "Thus, the SDE can be written as\n",
    "$$\n",
    "dx_t = (\\alpha-\\alpha')\\frac{d\\sigma}{dt}dt + \\sigma\\circ_{\\alpha'} dW_t\n",
    "$$\n",
    "\n",
    "Here the integration convention is given by $\\alpha'$ and there is a noise-induced drift term.\n",
    "\n",
    "Let us now consider the example of an unbiased random walker, and therefore, there is no multiplicative noise. The SDE is then simply\n",
    "$$\n",
    "x_{t+1} =x_{t} \\pm \\sigma \\sqrt{\\Delta t}\n",
    "$$"
   ]
  },
  {
   "cell_type": "code",
   "execution_count": 2,
   "metadata": {},
   "outputs": [
    {
     "data": {
      "image/png": "[encoded data removed]",
      "text/plain": [
       "<Figure size 432x288 with 1 Axes>"
      ]
     },
     "metadata": {
      "needs_background": "light"
     },
     "output_type": "display_data"
    }
   ],
   "source": [
    "N  = 512;  \n",
    "t0 = 0\n",
    "tf = 1000\n",
    "dt = float(tf - t0) / N\n",
    "ts = np.arange(t0, tf, dt)\n",
    "ys = np.zeros(np.prod(ts.shape))\n",
    "ss = 1\n",
    "\n",
    "def sigma(t): \n",
    "    return ss\n",
    "\n",
    "def simulate(ys, ys0, sqdt):\n",
    "    ys[0] = ys0\n",
    "    for i in range(N-1):\n",
    "        ys[i+1] = ys[i] + (1-2*np.random.randint(0, 2))*sqdt\n",
    "    \n",
    "ys0   = 50\n",
    "sqdt  = np.sqrt(dt)\n",
    "simulate(ys, ys0, sqdt)\n",
    "plt.plot(ts, ys, color=\"#348ABD\");"
   ]
  },
  {
   "cell_type": "code",
   "execution_count": null,
   "metadata": {},
   "outputs": [],
   "source": [
    "fig = plt.figure(figsize=(16, 5), dpi=80, facecolor='w', edgecolor='k'); \n",
    "\n",
    "Ns = 10000\n",
    "R = np.zeros(Ns)\n",
    "for i in range(Ns):\n",
    "    simulate(ys, ys0, sqdt)\n",
    "    R[i] = ys[N-1]\n",
    "    \n",
    "plt.hist(R, bins=100, density=1, histtype='stepfilled', color=\"#348ABD\");"
   ]
  },
  {
   "cell_type": "markdown",
   "metadata": {},
   "source": [
    "### Reflecting boundary conditiom"
   ]
  },
  {
   "cell_type": "code",
   "execution_count": null,
   "metadata": {},
   "outputs": [],
   "source": [
    "N  = 1000;  \n",
    "t0 = 0\n",
    "tf = 2000\n",
    "dt = float(tf - t0) / N\n",
    "ts = np.arange(t0, tf, dt)\n",
    "ys = np.zeros(np.prod(ts.shape))\n",
    "ss = 1\n",
    "\n",
    "def sigma(t): \n",
    "    return ss\n",
    "\n",
    "wallL, wallR = 0, 100\n",
    "def simulate(ys, ys0, sqdt):\n",
    "    ys[0] = ys0\n",
    "    for i in range(N-1):\n",
    "        ys[i+1] = ys[i] + (1-2*np.random.randint(0, 2))*sqdt\n",
    "        if ys[i+1] < wallL:\n",
    "            ys[i+1] = ys[i]  \n",
    "        elif ys[i+1] > wallR:\n",
    "            ys[i+1] = ys[i]    \n",
    "    \n",
    "ys0   = 50\n",
    "sqdt  = 1*np.sqrt(dt)\n",
    "simulate(ys, ys0, sqdt)\n",
    "plt.plot(ts, ys, color=\"#348ABD\");  \n",
    "plt.plot(ts, ts*0+wallL, 'g-')\n",
    "plt.plot(ts, ts*0+wallR, 'g-')"
   ]
  },
  {
   "cell_type": "code",
   "execution_count": null,
   "metadata": {},
   "outputs": [],
   "source": [
    "fig = plt.figure(figsize=(16, 5), dpi=80, facecolor='w', edgecolor='k'); \n",
    "\n",
    "Ns = 10000\n",
    "R = np.zeros(Ns)\n",
    "for i in range(Ns):\n",
    "    simulate(ys, ys0, sqdt)\n",
    "    R[i] = ys[N-1]\n",
    "    \n",
    "plt.hist(R, bins=100, density=1, histtype='stepfilled', color=\"#348ABD\");"
   ]
  },
  {
   "cell_type": "markdown",
   "metadata": {},
   "source": [
    "## Multiplicative noise\n",
    "We now consider the case when $\\sigma$ is function of position and follow the example in the [paper](http://iopscience.iop.org/article/10.1088/0034-4885/79/5/053901/meta;jsessionid=F2EA1EB22F3F25B2A084E276DDA2A95F.ip-10-40-1-105). The SDE to be solved is then\n",
    "$$\n",
    "x_{t+1} =x_{t} \\pm \\sigma(x_t + \\alpha \\Delta x) \\sqrt{\\Delta t}\n",
    "$$\n",
    "The above multiplicative noise can be implemented as\n",
    "$$\n",
    "x_{t+1} =x_{t} + \\alpha \\sigma(x_t) \\frac{d\\sigma}{dx} dt \\pm \\sigma(x_t) \\sqrt{\\Delta t}\n",
    "$$"
   ]
  },
  {
   "cell_type": "code",
   "execution_count": null,
   "metadata": {},
   "outputs": [],
   "source": [
    "N  = 1024;  \n",
    "t0 = 0\n",
    "tf = 4\n",
    "dt = float(tf - t0) / N\n",
    "ts = np.arange(t0, tf, dt)\n",
    "ys = np.zeros(np.prod(ts.shape))\n",
    "ss = 1\n",
    "\n",
    "def sigma(t): \n",
    "    return ss\n",
    "\n",
    "def simulate(ys, ys0, sqdt, aa, wallL, wallR):\n",
    "    ys[0] = ys0\n",
    "    for i in range(N-1):\n",
    "        ys[i+1] = ys[i] + aa*ys[i]*dt + ys[i]*(1-2*np.random.randint(0, 2))*sqdt\n",
    "        if ys[i+1] < wallL:\n",
    "            ys[i+1] = ys[i]  \n",
    "        elif ys[i+1] > wallR:\n",
    "            ys[i+1] = ys[i]        \n",
    "\n",
    "ys0 = 50\n",
    "aa  = 1\n",
    "wallL, wallR = 0, 100\n",
    "sqdt  = np.sqrt(dt)\n",
    "\n",
    "fig = plt.figure(figsize=(16, 5), dpi=80, facecolor='w', edgecolor='k'); \n",
    "plt.rc('text', usetex=True)\n",
    "plt.rc('font', family='serif')\n",
    "\n",
    "sp =  fig.add_subplot(1, 2, 1 ); aa = 0\n",
    "simulate(ys, ys0, sqdt, aa, wallL, wallR)\n",
    "plt.plot(ts, ys, color=\"#348ABD\"); plt.title(r'\\alpha = 0');  \n",
    "\n",
    "sp =  fig.add_subplot(1, 2, 2 ); aa = 1\n",
    "simulate(ys, ys0, sqdt, aa, wallL, wallR)\n",
    "plt.plot(ts, ys, color=\"#348ABD\"); plt.title(r'\\alpha = 1');"
   ]
  },
  {
   "cell_type": "code",
   "execution_count": null,
   "metadata": {},
   "outputs": [],
   "source": [
    "fig = plt.figure(figsize=(16, 5), dpi=80, facecolor='w', edgecolor='k'); \n",
    "Ns  = 4000; \n",
    "R   = np.zeros(Ns)\n",
    "\n",
    "sp =  fig.add_subplot(1, 2, 1 ); aa = 0\n",
    "for i in range(Ns):\n",
    "    simulate(ys, ys0, sqdt, aa, wallL, wallR)\n",
    "    R[i] = ys[N-1]    \n",
    "plt.hist(R, bins=100,  histtype='stepfilled', color=\"#348ABD\"); \n",
    "plt.title(r'\\alpha = 0');\n",
    "\n",
    "sp =  fig.add_subplot(1, 2, 2 ); aa = 1\n",
    "for i in range(Ns):\n",
    "    simulate(ys, ys0, sqdt, aa, wallL, wallR)\n",
    "    R[i] = ys[N-1]    \n",
    "plt.hist(R, bins=100,  histtype='stepfilled', color=\"#348ABD\"); \n",
    "plt.title(r'\\alpha = 1');"
   ]
  },
  {
   "cell_type": "markdown",
   "metadata": {},
   "source": [
    "## A colloid near a plane wall\n",
    "In this case the mobility of a colloid is a function of the distance of the colloid from the wall and thus a suitable choice is needed. We use the choice which correspond to adiabtic elimination of the momentum from the full Langevin equation and include the effective drift term."
   ]
  },
  {
   "cell_type": "code",
   "execution_count": null,
   "metadata": {},
   "outputs": [],
   "source": [
    "t0 = 0\n",
    "tf = 512\n",
    "N  = 10000  \n",
    "dt    = float(tf - t0) / N\n",
    "\n",
    "eta = 1.0/6   # viscosity\n",
    "a   = 1       # radius\n",
    "\n",
    "\n",
    "def muPerp(h): \n",
    "    \"\"\"mobility of a colloid at a height h from a plane wall (perpendicular to wall)\"\"\"\n",
    "    return  ( 1 - (9.0/8)*(a/h) + 0.5*(a/h)**3) / (6*3.14*eta*a)\n",
    "\n",
    "def driftMuPerp(h): \n",
    "    \"\"\"mobility of a colloid at a height h from a plane wall (perpendicular to wall)\"\"\"\n",
    "    return  ( (9.0/8)*(a/h**2) - 1.5*(a**3/h**4))/(6*3.14*eta*a)\n",
    "\n",
    "\n",
    "def muPar(h): \n",
    "    \"\"\"mobility of a colloid at a height h from a plane wall (parallel to wall)\"\"\"\n",
    "    return  ( 1 - (9.0/16)*(a/h) + (a/(2*h))**3)/(6*3.14*eta*a)\n",
    "\n",
    "\n",
    "def sigma(mu, t): \n",
    "    c_sigma = np.sqrt(2*mu)\n",
    "    return c_sigma\n",
    "    \n",
    "    \n",
    "def dW(dt): \n",
    "    \"\"\"dW_{n}=W_{n+1} -W_{n}.\"\"\"\n",
    "    return np.random.normal(loc=0.0, scale=np.sqrt(dt))\n",
    "\n",
    "def wallWCA(h): \n",
    "    F=0\n",
    "    if h<=1.1:\n",
    "        F = 1*1/(h**12)\n",
    "    return F\n",
    "            \n",
    "    return np.random.normal(loc=0.0, scale=np.sqrt(dt))\n",
    "\n",
    "\n",
    "\n",
    "def simulate(ts, ys):\n",
    "    for i in range(1, ts.size):\n",
    "        h = ys[i-1]\n",
    "        ys[i] = h  + (muPerp(h)*wallWCA(h) + driftMuPerp(h))*dt + sigma(muPerp(h), ts[i])*dW(dt)\n",
    "        #ys[i] = ys[i-1]  + sigma(muPar(h), ts[i])*dW(dt)\n",
    "\n",
    "        \n",
    "#declare and initialize\n",
    "ts    = np.arange(t0, tf, dt)\n",
    "ys    = np.zeros(np.prod(ts.shape))\n",
    "ys[0] = 25    # height of the colloid from the wall\n",
    "\n",
    "#simulate and plot\n",
    "simulate(ts, ys)\n",
    "plt.plot(ts, ys, color=\"#348ABD\");"
   ]
  },
  {
   "cell_type": "code",
   "execution_count": null,
   "metadata": {},
   "outputs": [],
   "source": [
    "fig = plt.figure(figsize=(16, 5), dpi=80, facecolor='w', edgecolor='k'); \n",
    "\n",
    "ys[0] = 64        # height of the colloid from the wall\n",
    "simulate(ts, ys)\n",
    "sp =  fig.add_subplot(1, 2, 1 ); \n",
    "plt.plot(ts, ys, color=\"#348ABD\"); \n",
    "plt.title('$h=32$', fontsize=16);  \n",
    "\n",
    " \n",
    "\n",
    "ys[0] = 2    # height of the colloid from the wall\n",
    "simulate(ts, ys)\n",
    "sp =  fig.add_subplot(1, 2, 2);  \n",
    "plt.plot(ts, ys, color=\"#348ABD\");  \n",
    "plt.title('$h=2$', fontsize=16);  "
   ]
  },
  {
   "cell_type": "markdown",
   "metadata": {
    "collapsed": true
   },
   "source": [
    "## Ornstein-Uhlenbeck Process"
   ]
  },
  {
   "cell_type": "code",
   "execution_count": null,
   "metadata": {},
   "outputs": [],
   "source": [
    "import numpy as np\n",
    "import matplotlib.pyplot as plt\n",
    "\n",
    "\n",
    "t0 = 0\n",
    "tf = 200\n",
    "N  = 1000000  \n",
    "dt    = float(tf - t0) / N\n",
    "\n",
    "eta = 1.0/6   # viscosity\n",
    "a   = 1       # radius\n",
    "k   = 0.01    # stiffness of the trap in plane\n",
    "mu  = 1/(6*np.pi*eta*a) \n",
    "\n",
    "def sigma(mu, t): \n",
    "    c_sigma = np.sqrt(2*mu)\n",
    "    return c_sigma\n",
    "    \n",
    "    \n",
    "def dW(dt): \n",
    "    \"\"\"dW_{n}=W_{n+1} -W_{n}.\"\"\"\n",
    "    return np.random.normal(loc=0.0, scale=np.sqrt(dt))\n",
    "\n",
    "\n",
    "def simulate(ts, ys, h):\n",
    "    for i in range(1, ts.size):\n",
    "        ys[i] = ys[i-1] - k*mu*ys[i-1] + sigma(mu, ts[i])*dW(dt)\n",
    "\n",
    "        \n",
    "#declare and initialize\n",
    "ts    = np.arange(t0, tf, dt)\n",
    "ys    = np.zeros(np.prod(ts.shape))\n",
    "ys[0] = 0\n",
    "z = 25    # height of the colloid from the wall\n",
    "\n",
    "#simulate and plot\n",
    "simulate(ts, ys, z)\n",
    "plt.plot(ts, ys, color=\"#A60628\");"
   ]
  },
  {
   "cell_type": "code",
   "execution_count": null,
   "metadata": {},
   "outputs": [],
   "source": [
    "plt.hist(ys, bins=64, range=(-1, 1), density=1, histtype='step', color=\"#348ABD\");"
   ]
  }
 ],
 "metadata": {
  "kernelspec": {
   "display_name": "Python 3",
   "language": "python",
   "name": "python3"
  },
  "language_info": {
   "codemirror_mode": {
    "name": "ipython",
    "version": 3
   },
   "file_extension": ".py",
   "mimetype": "text/x-python",
   "name": "python",
   "nbconvert_exporter": "python",
   "pygments_lexer": "ipython3",
   "version": "3.7.3"
  }
 },
 "nbformat": 4,
 "nbformat_minor": 1
}
